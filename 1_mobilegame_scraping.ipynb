{
 "cells": [
  {
   "cell_type": "markdown",
   "metadata": {},
   "source": [
    "# Web Scraping"
   ]
  },
  {
   "cell_type": "markdown",
   "metadata": {
    "heading_collapsed": true
   },
   "source": [
    "## 1) Scraping a list of Urls"
   ]
  },
  {
   "cell_type": "code",
   "execution_count": 1,
   "metadata": {
    "hidden": true
   },
   "outputs": [],
   "source": [
    "import pandas as pd\n",
    "import numpy as np\n",
    "from selenium import webdriver\n",
    "from selenium.webdriver.common.keys import Keys\n",
    "from bs4 import BeautifulSoup\n",
    "import os\n",
    "import time \n",
    "import requests\n",
    "import re\n",
    "pd.options.display.max_colwidth\n",
    "chromedriver = \"/Applications/chromedriver\" # path to the chromedriver executable\n",
    "os.environ[\"webdriver.chrome.driver\"] = chromedriver"
   ]
  },
  {
   "cell_type": "markdown",
   "metadata": {
    "hidden": true
   },
   "source": [
    "Sensortower.com has the moblie games data.\n",
    "\n",
    "- Google Play\n",
    "\n",
    "https://sensortower.com/android/rankings/top/mobile/us/game?date=2019-04-30\n",
    "https://sensortower.com/android/rankings/top/mobile/us/game?date=2019-05-31\n",
    "https://sensortower.com/android/rankings/top/mobile/us/game?date=2019-06-30\n",
    "\n",
    "- App Store\n",
    "\n",
    "https://sensortower.com/ios/rankings/top/iphone/us/games?date=2019-04-30\n",
    "https://sensortower.com/ios/rankings/top/iphone/us/games?date=2019-05-31\n",
    "https://sensortower.com/ios/rankings/top/iphone/us/games?date=2019-06-30"
   ]
  },
  {
   "cell_type": "markdown",
   "metadata": {
    "hidden": true
   },
   "source": [
    "- Scrap 6 web pages to get 7200 total urls.\n",
    "- Each web page has 3 ranking: Free, Paid, Top Grossing\n",
    "- Pull top 400 games from each ranking.\n",
    "6 * 3 * 400 = 7200"
   ]
  },
  {
   "cell_type": "code",
   "execution_count": 27,
   "metadata": {
    "hidden": true
   },
   "outputs": [],
   "source": [
    "# Selenium to scroll down page. Soup the urls. Put them into a list\n",
    "driver = webdriver.Chrome(chromedriver)\n",
    "url= \"https://sensortower.com/ios/rankings/top/iphone/us/games?date=2019-04-30\"\n",
    "driver.maximize_window()\n",
    "driver.get(url)\n",
    "pause_time = 0.5\n",
    "# Get scroll height\n",
    "last_height = driver.execute_script(\"return document.body.scrollHeight\")\n",
    "\n",
    "while driver.page_source:\n",
    "    # Scroll down to bottom\n",
    "    driver.execute_script(\"window.scrollTo(0, document.body.scrollHeight);\")\n",
    "\n",
    "    # wait to load page\n",
    "    time.sleep(pause_time)\n",
    "\n",
    "    # Calculate new scroll height and compare with last scroll height\n",
    "    new_height = driver.execute_script(\"return document.body.scrollHeight\")\n",
    "    if new_height == last_height: # which means end of page\n",
    "        break\n",
    "    # update the last height\n",
    "    last_height = new_height\n",
    "\n",
    "    \n",
    "soup = BeautifulSoup(driver.page_source, 'html.parser')\n",
    "url_list = []\n",
    "for link in soup.find_all('a', class_=\"name\"):\n",
    "    url_list.append(link.get('href'))\n"
   ]
  },
  {
   "cell_type": "code",
   "execution_count": 28,
   "metadata": {
    "hidden": true
   },
   "outputs": [
    {
     "data": {
      "text/plain": [
       "[None,\n",
       " None,\n",
       " None,\n",
       " None,\n",
       " None,\n",
       " None,\n",
       " None,\n",
       " None,\n",
       " None,\n",
       " '/ios/us/geisha-tokyo-inc/app/traffic-run/1434400630/',\n",
       " '/ios/us/mojang/app/minecraft/479516143/',\n",
       " '/ios/us/supercell/app/clash-royale/1053012308/',\n",
       " '/ios/us/crazy-labs/app/amaze/1452526406/',\n",
       " '/ios/us/ndemic-creations/app/plague-inc/525818839/',\n",
       " '/ios/us/supercell/app/clash-of-clans/529479190/',\n",
       " '/ios/us/voodoo/app/purple-diver/1453402726/',\n",
       " '/ios/us/warner-bros/app/heads-up/623592465/',\n",
       " '/ios/us/epic-games/app/fortnite/1261357853/',\n",
       " '/ios/us/saygames-llc/app/clean-road/1455654495/',\n",
       " '/ios/us/ninja-kiwi/app/bloons-td-6/1118115766/']"
      ]
     },
     "execution_count": 28,
     "metadata": {},
     "output_type": "execute_result"
    }
   ],
   "source": [
    "# Check the list\n",
    "url_list[0:20]"
   ]
  },
  {
   "cell_type": "code",
   "execution_count": 29,
   "metadata": {
    "hidden": true
   },
   "outputs": [
    {
     "data": {
      "text/plain": [
       "1209"
      ]
     },
     "execution_count": 29,
     "metadata": {},
     "output_type": "execute_result"
    }
   ],
   "source": [
    "# Check len\n",
    "len(url_list)"
   ]
  },
  {
   "cell_type": "code",
   "execution_count": 31,
   "metadata": {
    "hidden": true
   },
   "outputs": [
    {
     "data": {
      "text/plain": [
       "9"
      ]
     },
     "execution_count": 31,
     "metadata": {},
     "output_type": "execute_result"
    }
   ],
   "source": [
    "# Count the None in the list\n",
    "countnone = 0\n",
    "for i in url_list:\n",
    "    if i == None:\n",
    "        countnone+=1\n",
    "countnone"
   ]
  },
  {
   "cell_type": "code",
   "execution_count": 32,
   "metadata": {
    "hidden": true
   },
   "outputs": [],
   "source": [
    "# Drop the none\n",
    "url_list_clean = [i for i in url_list if i]"
   ]
  },
  {
   "cell_type": "code",
   "execution_count": 33,
   "metadata": {
    "hidden": true
   },
   "outputs": [
    {
     "data": {
      "text/plain": [
       "1200"
      ]
     },
     "execution_count": 33,
     "metadata": {},
     "output_type": "execute_result"
    }
   ],
   "source": [
    "# Check len\n",
    "len(url_list_clean)"
   ]
  },
  {
   "cell_type": "code",
   "execution_count": 34,
   "metadata": {
    "hidden": true
   },
   "outputs": [
    {
     "data": {
      "text/plain": [
       "['/ios/us/geisha-tokyo-inc/app/traffic-run/1434400630/',\n",
       " '/ios/us/mojang/app/minecraft/479516143/',\n",
       " '/ios/us/supercell/app/clash-royale/1053012308/',\n",
       " '/ios/us/crazy-labs/app/amaze/1452526406/',\n",
       " '/ios/us/ndemic-creations/app/plague-inc/525818839/',\n",
       " '/ios/us/supercell/app/clash-of-clans/529479190/',\n",
       " '/ios/us/voodoo/app/purple-diver/1453402726/',\n",
       " '/ios/us/warner-bros/app/heads-up/623592465/',\n",
       " '/ios/us/epic-games/app/fortnite/1261357853/',\n",
       " '/ios/us/saygames-llc/app/clean-road/1455654495/']"
      ]
     },
     "execution_count": 34,
     "metadata": {},
     "output_type": "execute_result"
    }
   ],
   "source": [
    "url_list_clean[0:10]"
   ]
  },
  {
   "cell_type": "code",
   "execution_count": 36,
   "metadata": {
    "hidden": true
   },
   "outputs": [],
   "source": [
    "# convert the list to dataframe and add the front missing part of url for each url.\n",
    "url_pd = pd.DataFrame(url_list_clean, columns=[\"URL\"])\n",
    "url_pd['URL'] = 'https://sensortower.com' + url_pd[\"URL\"].astype(str)"
   ]
  },
  {
   "cell_type": "code",
   "execution_count": 43,
   "metadata": {
    "hidden": true
   },
   "outputs": [],
   "source": [
    "# Combine all urls to one dataframe\n",
    "frames = [url_pd, url_pd1, url_pd2....]\n",
    "\n",
    "url_df = pd.concat(frames)"
   ]
  },
  {
   "cell_type": "code",
   "execution_count": 46,
   "metadata": {
    "hidden": true
   },
   "outputs": [],
   "source": [
    "# Drop the duplicated url, and we left around 3200 unique urls.\n",
    "url_df.drop_duplicates(keep='first', inplace=True)"
   ]
  },
  {
   "cell_type": "code",
   "execution_count": 48,
   "metadata": {
    "hidden": true
   },
   "outputs": [],
   "source": [
    "# save to csv\n",
    "url_df.to_csv('url_list.csv', index=False)"
   ]
  },
  {
   "cell_type": "markdown",
   "metadata": {
    "hidden": true
   },
   "source": [
    "2) Scraping the game overview page with a list of 3200 Urls"
   ]
  },
  {
   "cell_type": "code",
   "execution_count": 9,
   "metadata": {
    "hidden": true
   },
   "outputs": [],
   "source": [
    "# The key word I am looking in the html.\n",
    "kocomponent = re.compile(\"ko component\")"
   ]
  },
  {
   "cell_type": "code",
   "execution_count": 10,
   "metadata": {
    "hidden": true
   },
   "outputs": [],
   "source": [
    "# import the 3200 url dataframe\n",
    "url_list = pd.read_csv('url_list')"
   ]
  },
  {
   "cell_type": "code",
   "execution_count": 11,
   "metadata": {
    "hidden": true
   },
   "outputs": [
    {
     "data": {
      "text/plain": [
       "['https://sensortower.com/ios/us/voodoo/app/aquapark-io/1453989822/',\n",
       " 'https://sensortower.com/ios/us/mojang/app/minecraft/479516143/',\n",
       " 'https://sensortower.com/ios/us/supercell/app/clash-of-clans/529479190/',\n",
       " 'https://sensortower.com/ios/us/voodoo/app/touch-the-wall/1464879969/',\n",
       " 'https://sensortower.com/ios/us/warner-bros/app/heads-up/623592465/',\n",
       " 'https://sensortower.com/ios/us/king/app/candy-crush-saga/553834731/',\n",
       " 'https://sensortower.com/ios/us/voodoo/app/pottery/1451304804/',\n",
       " 'https://sensortower.com/ios/us/ndemic-creations/app/plague-inc/525818839/',\n",
       " 'https://sensortower.com/ios/us/niantic-inc/app/pokemon-go/1094591345/',\n",
       " 'https://sensortower.com/ios/us/good-job-games/app/fun-race-3d/1462556579/']"
      ]
     },
     "execution_count": 11,
     "metadata": {},
     "output_type": "execute_result"
    }
   ],
   "source": [
    "# convert it to a list\n",
    "urls = url_list['URL'].tolist()"
   ]
  },
  {
   "cell_type": "markdown",
   "metadata": {
    "heading_collapsed": true
   },
   "source": [
    "## 2) Scraping data from each url"
   ]
  },
  {
   "cell_type": "code",
   "execution_count": 19,
   "metadata": {
    "hidden": true
   },
   "outputs": [],
   "source": [
    "# Function to soup the html and convert the part I want to dict then to pd.dataframe\n",
    "def scapegameinfo(urls):\n",
    "    game_df = pd.DataFrame()\n",
    "    for i, url in enumerate(urls):\n",
    "        response = requests.get(url)\n",
    "        page = response.text\n",
    "        soup = BeautifulSoup(page, \"lxml\")\n",
    "        S = soup.find_all(text=kocomponent)[1].split(\"params: \")[1][:-3]\n",
    "        null = None\n",
    "        false = False\n",
    "        true = True\n",
    "        game_dict = eval(S)\n",
    "        game_df = game_df.append(game_dict, ignore_index=True)\n",
    "        time.sleep(2)\n",
    "        if (i+1 % 5 == 0):\n",
    "            time.sleep(10)\n",
    "    return game_df\n"
   ]
  },
  {
   "cell_type": "code",
   "execution_count": 14,
   "metadata": {
    "hidden": true
   },
   "outputs": [],
   "source": [
    "# excute the scraping function, this told hours. Depend on the len of list. Suggest doing 200 at a time.\n",
    "game_df_raw = scapegameinfo(urls)"
   ]
  },
  {
   "cell_type": "code",
   "execution_count": 15,
   "metadata": {
    "hidden": true
   },
   "outputs": [
    {
     "data": {
      "text/html": [
       "<div>\n",
       "<style scoped>\n",
       "    .dataframe tbody tr th:only-of-type {\n",
       "        vertical-align: middle;\n",
       "    }\n",
       "\n",
       "    .dataframe tbody tr th {\n",
       "        vertical-align: top;\n",
       "    }\n",
       "\n",
       "    .dataframe thead th {\n",
       "        text-align: right;\n",
       "    }\n",
       "</style>\n",
       "<table border=\"1\" class=\"dataframe\">\n",
       "  <thead>\n",
       "    <tr style=\"text-align: right;\">\n",
       "      <th></th>\n",
       "      <th>app_id</th>\n",
       "      <th>app_profile_url</th>\n",
       "      <th>app_versions</th>\n",
       "      <th>app_view_url</th>\n",
       "      <th>apple_watch_enabled</th>\n",
       "      <th>apple_watch_icon</th>\n",
       "      <th>categories</th>\n",
       "      <th>category_chart_type_pairs</th>\n",
       "      <th>contains_ads</th>\n",
       "      <th>country</th>\n",
       "      <th>...</th>\n",
       "      <th>subtitle</th>\n",
       "      <th>support_url</th>\n",
       "      <th>top_in_app_purchases</th>\n",
       "      <th>trailers</th>\n",
       "      <th>unified_app</th>\n",
       "      <th>urlified_name</th>\n",
       "      <th>urlified_publisher_name</th>\n",
       "      <th>valid_countries</th>\n",
       "      <th>version</th>\n",
       "      <th>worldwide_release_date</th>\n",
       "    </tr>\n",
       "  </thead>\n",
       "  <tbody>\n",
       "    <tr>\n",
       "      <th>0</th>\n",
       "      <td>1.453990e+09</td>\n",
       "      <td>https://apps.apple.com/US/app/id1453989822?l=en</td>\n",
       "      <td>[{'date': 1562544000000, 'value': '2.5'}, {'da...</td>\n",
       "      <td>/ios/us/voodoo/app/aquapark-io/1453989822/</td>\n",
       "      <td>None</td>\n",
       "      <td>None</td>\n",
       "      <td>[{'countryUrl': 'us', 'deviceIdentifier': 'iph...</td>\n",
       "      <td>[[0, topfreeapplications], [6014, topfreeappli...</td>\n",
       "      <td>None</td>\n",
       "      <td>US</td>\n",
       "      <td>...</td>\n",
       "      <td>Best water slide game</td>\n",
       "      <td>https://voodoo.io</td>\n",
       "      <td>[{'iap_id': 1463210291, 'price': '$2.99', 'nam...</td>\n",
       "      <td>{'iPhone': {'img': 'https://is5-ssl.mzstatic.c...</td>\n",
       "      <td>None</td>\n",
       "      <td>aquapark-io</td>\n",
       "      <td>voodoo</td>\n",
       "      <td>[US, AU, CA, CN, FR, DE, GB, IT, JP, KR, RU, D...</td>\n",
       "      <td>2.5</td>\n",
       "      <td>1.5581e+12</td>\n",
       "    </tr>\n",
       "    <tr>\n",
       "      <th>1</th>\n",
       "      <td>4.795161e+08</td>\n",
       "      <td>https://apps.apple.com/US/app/id479516143?l=en</td>\n",
       "      <td>[{'date': 1562630400000, 'value': '1.12'}, {'d...</td>\n",
       "      <td>/ios/us/mojang/app/minecraft/479516143/</td>\n",
       "      <td>None</td>\n",
       "      <td>None</td>\n",
       "      <td>[{'countryUrl': 'us', 'deviceIdentifier': 'iph...</td>\n",
       "      <td>[[0, toppaidapplications], [6014, toppaidappli...</td>\n",
       "      <td>None</td>\n",
       "      <td>US</td>\n",
       "      <td>...</td>\n",
       "      <td>Create, explore and survive!</td>\n",
       "      <td>http://help.mojang.com</td>\n",
       "      <td>[{'iap_id': 1213177982, 'price': '$1.99', 'nam...</td>\n",
       "      <td>{'iPhone': None, 'iPad': None}</td>\n",
       "      <td>None</td>\n",
       "      <td>minecraft</td>\n",
       "      <td>mojang</td>\n",
       "      <td>[US, AU, CA, FR, DE, GB, IT, JP, KR, RU, DZ, A...</td>\n",
       "      <td>1.12</td>\n",
       "      <td>1.32152e+12</td>\n",
       "    </tr>\n",
       "    <tr>\n",
       "      <th>2</th>\n",
       "      <td>5.294792e+08</td>\n",
       "      <td>https://apps.apple.com/US/app/id529479190?l=en</td>\n",
       "      <td>[{'date': 1560988800000, 'value': '11.651.12'}...</td>\n",
       "      <td>/ios/us/supercell/app/clash-of-clans/529479190/</td>\n",
       "      <td>None</td>\n",
       "      <td>None</td>\n",
       "      <td>[{'countryUrl': 'us', 'deviceIdentifier': 'iph...</td>\n",
       "      <td>[[0, topfreeapplications], [6014, topfreeappli...</td>\n",
       "      <td>None</td>\n",
       "      <td>US</td>\n",
       "      <td>...</td>\n",
       "      <td>Build your empire</td>\n",
       "      <td>https://supercell.helpshift.com/a/clash-of-clans/</td>\n",
       "      <td>[{'iap_id': 529484491, 'price': '$4.99', 'name...</td>\n",
       "      <td>{'iPhone': {'img': 'https://is5-ssl.mzstatic.c...</td>\n",
       "      <td>None</td>\n",
       "      <td>clash-of-clans</td>\n",
       "      <td>supercell</td>\n",
       "      <td>[US, AU, CA, CN, FR, DE, GB, IT, JP, KR, RU, D...</td>\n",
       "      <td>11.651.12</td>\n",
       "      <td>1.3439e+12</td>\n",
       "    </tr>\n",
       "    <tr>\n",
       "      <th>3</th>\n",
       "      <td>1.464880e+09</td>\n",
       "      <td>https://apps.apple.com/US/app/id1464879969?l=en</td>\n",
       "      <td>[{'date': 1562371200000, 'value': '1.1'}, {'da...</td>\n",
       "      <td>/ios/us/voodoo/app/touch-the-wall/1464879969/</td>\n",
       "      <td>None</td>\n",
       "      <td>None</td>\n",
       "      <td>[{'countryUrl': 'us', 'deviceIdentifier': 'iph...</td>\n",
       "      <td>[[0, topfreeapplications], [6014, topfreeappli...</td>\n",
       "      <td>None</td>\n",
       "      <td>US</td>\n",
       "      <td>...</td>\n",
       "      <td>Sneak your way to victory</td>\n",
       "      <td>https://www.voodoo.io</td>\n",
       "      <td>[{'iap_id': 1470916394, 'price': '$2.99', 'nam...</td>\n",
       "      <td>{'iPhone': None, 'iPad': None}</td>\n",
       "      <td>None</td>\n",
       "      <td>touch-the-wall</td>\n",
       "      <td>voodoo</td>\n",
       "      <td>[US, AU, CA, CN, FR, DE, GB, IT, JP, KR, RU, D...</td>\n",
       "      <td>1.1</td>\n",
       "      <td>1.56168e+12</td>\n",
       "    </tr>\n",
       "    <tr>\n",
       "      <th>4</th>\n",
       "      <td>6.235925e+08</td>\n",
       "      <td>https://apps.apple.com/US/app/id623592465?l=en</td>\n",
       "      <td>[{'date': 1560816000000, 'value': '3.9.23'}, {...</td>\n",
       "      <td>/ios/us/warner-bros/app/heads-up/623592465/</td>\n",
       "      <td>None</td>\n",
       "      <td>None</td>\n",
       "      <td>[{'countryUrl': 'us', 'deviceIdentifier': 'iph...</td>\n",
       "      <td>[[0, toppaidapplications], [6014, toppaidappli...</td>\n",
       "      <td>None</td>\n",
       "      <td>US</td>\n",
       "      <td>...</td>\n",
       "      <td>Trivia on the go</td>\n",
       "      <td>http://www.ellentube.com/article/apps-and-game...</td>\n",
       "      <td>[{'iap_id': 709779977, 'price': '$0.99', 'name...</td>\n",
       "      <td>{'iPhone': {'img': 'https://is4-ssl.mzstatic.c...</td>\n",
       "      <td>None</td>\n",
       "      <td>heads-up</td>\n",
       "      <td>warner-bros</td>\n",
       "      <td>[US, AU, CA, CN, FR, DE, GB, IT, JP, KR, RU, D...</td>\n",
       "      <td>3.9.23</td>\n",
       "      <td>1.41325e+12</td>\n",
       "    </tr>\n",
       "  </tbody>\n",
       "</table>\n",
       "<p>5 rows × 51 columns</p>\n",
       "</div>"
      ],
      "text/plain": [
       "         app_id                                  app_profile_url  \\\n",
       "0  1.453990e+09  https://apps.apple.com/US/app/id1453989822?l=en   \n",
       "1  4.795161e+08   https://apps.apple.com/US/app/id479516143?l=en   \n",
       "2  5.294792e+08   https://apps.apple.com/US/app/id529479190?l=en   \n",
       "3  1.464880e+09  https://apps.apple.com/US/app/id1464879969?l=en   \n",
       "4  6.235925e+08   https://apps.apple.com/US/app/id623592465?l=en   \n",
       "\n",
       "                                        app_versions  \\\n",
       "0  [{'date': 1562544000000, 'value': '2.5'}, {'da...   \n",
       "1  [{'date': 1562630400000, 'value': '1.12'}, {'d...   \n",
       "2  [{'date': 1560988800000, 'value': '11.651.12'}...   \n",
       "3  [{'date': 1562371200000, 'value': '1.1'}, {'da...   \n",
       "4  [{'date': 1560816000000, 'value': '3.9.23'}, {...   \n",
       "\n",
       "                                      app_view_url apple_watch_enabled  \\\n",
       "0       /ios/us/voodoo/app/aquapark-io/1453989822/                None   \n",
       "1          /ios/us/mojang/app/minecraft/479516143/                None   \n",
       "2  /ios/us/supercell/app/clash-of-clans/529479190/                None   \n",
       "3    /ios/us/voodoo/app/touch-the-wall/1464879969/                None   \n",
       "4      /ios/us/warner-bros/app/heads-up/623592465/                None   \n",
       "\n",
       "  apple_watch_icon                                         categories  \\\n",
       "0             None  [{'countryUrl': 'us', 'deviceIdentifier': 'iph...   \n",
       "1             None  [{'countryUrl': 'us', 'deviceIdentifier': 'iph...   \n",
       "2             None  [{'countryUrl': 'us', 'deviceIdentifier': 'iph...   \n",
       "3             None  [{'countryUrl': 'us', 'deviceIdentifier': 'iph...   \n",
       "4             None  [{'countryUrl': 'us', 'deviceIdentifier': 'iph...   \n",
       "\n",
       "                           category_chart_type_pairs contains_ads country  \\\n",
       "0  [[0, topfreeapplications], [6014, topfreeappli...         None      US   \n",
       "1  [[0, toppaidapplications], [6014, toppaidappli...         None      US   \n",
       "2  [[0, topfreeapplications], [6014, topfreeappli...         None      US   \n",
       "3  [[0, topfreeapplications], [6014, topfreeappli...         None      US   \n",
       "4  [[0, toppaidapplications], [6014, toppaidappli...         None      US   \n",
       "\n",
       "   ...                      subtitle  \\\n",
       "0  ...         Best water slide game   \n",
       "1  ...  Create, explore and survive!   \n",
       "2  ...             Build your empire   \n",
       "3  ...     Sneak your way to victory   \n",
       "4  ...              Trivia on the go   \n",
       "\n",
       "                                         support_url  \\\n",
       "0                                  https://voodoo.io   \n",
       "1                             http://help.mojang.com   \n",
       "2  https://supercell.helpshift.com/a/clash-of-clans/   \n",
       "3                              https://www.voodoo.io   \n",
       "4  http://www.ellentube.com/article/apps-and-game...   \n",
       "\n",
       "                                top_in_app_purchases  \\\n",
       "0  [{'iap_id': 1463210291, 'price': '$2.99', 'nam...   \n",
       "1  [{'iap_id': 1213177982, 'price': '$1.99', 'nam...   \n",
       "2  [{'iap_id': 529484491, 'price': '$4.99', 'name...   \n",
       "3  [{'iap_id': 1470916394, 'price': '$2.99', 'nam...   \n",
       "4  [{'iap_id': 709779977, 'price': '$0.99', 'name...   \n",
       "\n",
       "                                            trailers unified_app  \\\n",
       "0  {'iPhone': {'img': 'https://is5-ssl.mzstatic.c...        None   \n",
       "1                     {'iPhone': None, 'iPad': None}        None   \n",
       "2  {'iPhone': {'img': 'https://is5-ssl.mzstatic.c...        None   \n",
       "3                     {'iPhone': None, 'iPad': None}        None   \n",
       "4  {'iPhone': {'img': 'https://is4-ssl.mzstatic.c...        None   \n",
       "\n",
       "    urlified_name urlified_publisher_name  \\\n",
       "0     aquapark-io                  voodoo   \n",
       "1       minecraft                  mojang   \n",
       "2  clash-of-clans               supercell   \n",
       "3  touch-the-wall                  voodoo   \n",
       "4        heads-up             warner-bros   \n",
       "\n",
       "                                     valid_countries    version  \\\n",
       "0  [US, AU, CA, CN, FR, DE, GB, IT, JP, KR, RU, D...        2.5   \n",
       "1  [US, AU, CA, FR, DE, GB, IT, JP, KR, RU, DZ, A...       1.12   \n",
       "2  [US, AU, CA, CN, FR, DE, GB, IT, JP, KR, RU, D...  11.651.12   \n",
       "3  [US, AU, CA, CN, FR, DE, GB, IT, JP, KR, RU, D...        1.1   \n",
       "4  [US, AU, CA, CN, FR, DE, GB, IT, JP, KR, RU, D...     3.9.23   \n",
       "\n",
       "  worldwide_release_date  \n",
       "0             1.5581e+12  \n",
       "1            1.32152e+12  \n",
       "2             1.3439e+12  \n",
       "3            1.56168e+12  \n",
       "4            1.41325e+12  \n",
       "\n",
       "[5 rows x 51 columns]"
      ]
     },
     "execution_count": 15,
     "metadata": {},
     "output_type": "execute_result"
    }
   ],
   "source": [
    "game_df_raw.head()"
   ]
  },
  {
   "cell_type": "code",
   "execution_count": 37,
   "metadata": {
    "hidden": true
   },
   "outputs": [],
   "source": [
    "game_df_raw.to_csv(\"game_df_raw.csv\")"
   ]
  },
  {
   "cell_type": "code",
   "execution_count": null,
   "metadata": {
    "hidden": true
   },
   "outputs": [],
   "source": []
  }
 ],
 "metadata": {
  "kernelspec": {
   "display_name": "Python 3",
   "language": "python",
   "name": "python3"
  },
  "language_info": {
   "codemirror_mode": {
    "name": "ipython",
    "version": 3
   },
   "file_extension": ".py",
   "mimetype": "text/x-python",
   "name": "python",
   "nbconvert_exporter": "python",
   "pygments_lexer": "ipython3",
   "version": "3.7.3"
  }
 },
 "nbformat": 4,
 "nbformat_minor": 2
}
