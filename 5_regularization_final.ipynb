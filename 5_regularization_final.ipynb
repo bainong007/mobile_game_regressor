{
 "cells": [
  {
   "cell_type": "markdown",
   "metadata": {},
   "source": [
    "# Regularized Linear Regression Applied to the Gaming Data\n"
   ]
  },
  {
   "cell_type": "markdown",
   "metadata": {},
   "source": [
    "In this notebook, we will build some linear regression models to predict housing prices from this data.  We will split our data into training, validation, and test sets, build various (regularized) models on the training/validation data and compare their results on the test set. We will examine metrics such as *r-squared* and *mean absolute error*.\n",
    "\n",
    "**Notebook Contents**\n",
    "\n",
    "> 1. Exploring the behavior of LASSO vs. Ridge regularization\n",
    "> 2. Standard-scaling features (a must for regularization!)\n",
    "> 3. Tuning regularization strength via validation\n",
    "> 4. Automated regularization strength tuning via cross-validation\n"
   ]
  },
  {
   "cell_type": "markdown",
   "metadata": {},
   "source": [
    "## Automated Regularization Strength Tuning via Cross-validation \n",
    "\n",
    "### Using LassoCV to find the best alpha via Cross-Validation\n",
    "\n",
    "It will do the following for each candidate value of alpha:\n",
    "\n",
    "> 1. Run cross-validation and score the result\n",
    "> 2. Find the value of alpha that gave the best CV score\n",
    "> 3. Fit a final model on all the data using the best value of alpha it just found\n",
    "\n",
    "Then you can use the `predict` method of the model just as with all of our previous models"
   ]
  },
  {
   "cell_type": "code",
   "execution_count": 21,
   "metadata": {
    "ExecuteTime": {
     "end_time": "2019-07-22T18:27:24.228095Z",
     "start_time": "2019-07-22T18:27:24.220734Z"
    }
   },
   "outputs": [],
   "source": [
    "from sklearn.model_selection import KFold\n",
    "from sklearn.model_selection import cross_val_score\n",
    "from sklearn.model_selection import train_test_split\n",
    "from sklearn.linear_model import LinearRegression, Lasso, LassoCV, Ridge, RidgeCV\n",
    "from sklearn.metrics import r2_score\n",
    "from sklearn.pipeline import Pipeline\n",
    "from sklearn.preprocessing import StandardScaler\n",
    "from sklearn.feature_selection import f_regression\n",
    "import pandas as pd\n",
    "import numpy as np\n",
    "import seaborn as sns\n",
    "sns.set()"
   ]
  },
  {
   "cell_type": "code",
   "execution_count": 22,
   "metadata": {
    "ExecuteTime": {
     "end_time": "2019-07-22T18:27:24.690816Z",
     "start_time": "2019-07-22T18:27:24.636952Z"
    }
   },
   "outputs": [],
   "source": [
    "datafile = \"game_data_final_features4.csv\"\n",
    "df=pd.read_csv(datafile)"
   ]
  },
  {
   "cell_type": "code",
   "execution_count": 23,
   "metadata": {
    "ExecuteTime": {
     "end_time": "2019-07-22T18:27:25.237516Z",
     "start_time": "2019-07-22T18:27:25.231837Z"
    }
   },
   "outputs": [],
   "source": [
    "df['log_rating_count'] = np.log(df['rating_count'])"
   ]
  },
  {
   "cell_type": "code",
   "execution_count": 24,
   "metadata": {
    "ExecuteTime": {
     "end_time": "2019-07-22T18:27:25.741973Z",
     "start_time": "2019-07-22T18:27:25.736827Z"
    }
   },
   "outputs": [],
   "source": [
    "df['log_downloads'] = np.log(df['downloads'])"
   ]
  },
  {
   "cell_type": "code",
   "execution_count": 25,
   "metadata": {
    "ExecuteTime": {
     "end_time": "2019-07-22T18:27:26.343892Z",
     "start_time": "2019-07-22T18:27:26.334100Z"
    }
   },
   "outputs": [],
   "source": [
    "X = df.loc[:,['Free_Pay','contains_ads', 'has_iap', 'android','log_downloads',\n",
    "       'overall_rating','log_rating_count', 'one_star', 'two_star', 'three_star', 'four_star', 'five_star',\n",
    "       'categories_Action', 'categories_Adventure',\n",
    "       'categories_Arcade', 'categories_Board', 'categories_Card',\n",
    "       'categories_Casino', 'categories_Casual', 'categories_Other',\n",
    "       'categories_Puzzle', 'categories_Role Playing', 'categories_Simulation',\n",
    "       'categories_Sports', 'categories_Strategy']]\n",
    " \n",
    "y = df['log_revenue']"
   ]
  },
  {
   "cell_type": "code",
   "execution_count": 26,
   "metadata": {
    "ExecuteTime": {
     "end_time": "2019-07-22T18:27:26.984999Z",
     "start_time": "2019-07-22T18:27:26.976882Z"
    }
   },
   "outputs": [],
   "source": [
    "X_train, X_test, y_train, y_test = train_test_split(X, y, test_size=.2, random_state=32)"
   ]
  },
  {
   "cell_type": "code",
   "execution_count": 27,
   "metadata": {
    "ExecuteTime": {
     "end_time": "2019-07-22T18:27:27.649922Z",
     "start_time": "2019-07-22T18:27:27.640890Z"
    }
   },
   "outputs": [
    {
     "data": {
      "text/plain": [
       "StandardScaler(copy=True, with_mean=True, with_std=True)"
      ]
     },
     "execution_count": 27,
     "metadata": {},
     "output_type": "execute_result"
    }
   ],
   "source": [
    "## Scale the data\n",
    "std = StandardScaler()\n",
    "std.fit(X_train.values)"
   ]
  },
  {
   "cell_type": "code",
   "execution_count": 28,
   "metadata": {
    "ExecuteTime": {
     "end_time": "2019-07-22T18:27:28.476837Z",
     "start_time": "2019-07-22T18:27:28.471025Z"
    }
   },
   "outputs": [],
   "source": [
    "## Scale the Predictors on both the train and test set\n",
    "X_tr = std.transform(X_train.values)\n",
    "X_te = std.transform(X_test.values)"
   ]
  },
  {
   "cell_type": "code",
   "execution_count": 29,
   "metadata": {
    "ExecuteTime": {
     "end_time": "2019-07-22T18:27:31.751463Z",
     "start_time": "2019-07-22T18:27:31.553382Z"
    }
   },
   "outputs": [
    {
     "data": {
      "text/plain": [
       "LassoCV(alphas=array([1.00000000e-02, 1.04737090e-02, 1.09698580e-02, 1.14895100e-02,\n",
       "       1.20337784e-02, 1.26038293e-02, 1.32008840e-02, 1.38262217e-02,\n",
       "       1.44811823e-02, 1.51671689e-02, 1.58856513e-02, 1.66381689e-02,\n",
       "       1.74263339e-02, 1.82518349e-02, 1.91164408e-02, 2.00220037e-02,\n",
       "       2.09704640e-02, 2.19638537e-02, 2.30043012e-02, 2.40940356e-02,\n",
       "       2.52353917e-02, 2.64308149e-0...\n",
       "       6.01027678e+01, 6.29498899e+01, 6.59318827e+01, 6.90551352e+01,\n",
       "       7.23263390e+01, 7.57525026e+01, 7.93409667e+01, 8.30994195e+01,\n",
       "       8.70359136e+01, 9.11588830e+01, 9.54771611e+01, 1.00000000e+02]),\n",
       "        copy_X=True, cv=5, eps=0.001, fit_intercept=True, max_iter=1000,\n",
       "        n_alphas=100, n_jobs=None, normalize=False, positive=False,\n",
       "        precompute='auto', random_state=None, selection='cyclic', tol=0.0001,\n",
       "        verbose=False)"
      ]
     },
     "execution_count": 29,
     "metadata": {},
     "output_type": "execute_result"
    }
   ],
   "source": [
    "# Run the cross validation, find the best alpha, refit the model on all the data with that alpha\n",
    "\n",
    "alphavec = 10**np.linspace(-2,2,200)\n",
    "\n",
    "lasso_model = LassoCV(alphas = alphavec, cv=5)\n",
    "lasso_model.fit(X_tr, y_train)"
   ]
  },
  {
   "cell_type": "code",
   "execution_count": 30,
   "metadata": {
    "ExecuteTime": {
     "end_time": "2019-07-22T18:27:32.684200Z",
     "start_time": "2019-07-22T18:27:32.680239Z"
    }
   },
   "outputs": [],
   "source": [
    "# This is the best alpha value it found - not far from the value\n",
    "# selected using simple validation\n",
    "alpha_lasso = lasso_model.alpha_"
   ]
  },
  {
   "cell_type": "code",
   "execution_count": 31,
   "metadata": {
    "ExecuteTime": {
     "end_time": "2019-07-22T18:27:33.413577Z",
     "start_time": "2019-07-22T18:27:33.409749Z"
    }
   },
   "outputs": [],
   "source": [
    "# Make predictions on the test set using the new model\n",
    "test_set_pred = lasso_model.predict(X_te)"
   ]
  },
  {
   "cell_type": "code",
   "execution_count": 32,
   "metadata": {
    "ExecuteTime": {
     "end_time": "2019-07-22T18:27:34.238134Z",
     "start_time": "2019-07-22T18:27:34.232056Z"
    }
   },
   "outputs": [
    {
     "data": {
      "text/plain": [
       "1.2125390440330894"
      ]
     },
     "execution_count": 32,
     "metadata": {},
     "output_type": "execute_result"
    }
   ],
   "source": [
    "# Find the MAE and R^2 on the test set using this model\n",
    "mae(y_test, test_set_pred)"
   ]
  },
  {
   "cell_type": "code",
   "execution_count": 33,
   "metadata": {
    "ExecuteTime": {
     "end_time": "2019-07-22T18:27:35.442159Z",
     "start_time": "2019-07-22T18:27:35.435624Z"
    },
    "scrolled": true
   },
   "outputs": [
    {
     "data": {
      "text/plain": [
       "0.5332940658901418"
      ]
     },
     "execution_count": 33,
     "metadata": {},
     "output_type": "execute_result"
    }
   ],
   "source": [
    "r2_score(y_test, test_set_pred)"
   ]
  },
  {
   "cell_type": "markdown",
   "metadata": {
    "ExecuteTime": {
     "end_time": "2019-07-22T18:15:50.698573Z",
     "start_time": "2019-07-22T18:15:50.691373Z"
    }
   },
   "source": [
    "### Using RidgeCV to find the best alpha via Cross-Validation\n",
    "\n",
    "It will do the following for each candidate value of alpha:\n",
    "\n",
    "> 1. Run cross-validation and score the result\n",
    "> 2. Find the value of alpha that gave the best CV score\n",
    "> 3. Fit a final model on all the data using the best value of alpha it just found\n",
    "\n",
    "Then you can use the `predict` method of the model just as with all of our previous models"
   ]
  },
  {
   "cell_type": "code",
   "execution_count": 34,
   "metadata": {
    "ExecuteTime": {
     "end_time": "2019-07-22T18:27:37.851145Z",
     "start_time": "2019-07-22T18:27:37.842626Z"
    }
   },
   "outputs": [
    {
     "data": {
      "text/plain": [
       "StandardScaler(copy=True, with_mean=True, with_std=True)"
      ]
     },
     "execution_count": 34,
     "metadata": {},
     "output_type": "execute_result"
    }
   ],
   "source": [
    "## Scale the data\n",
    "std = StandardScaler()\n",
    "std.fit(X_train.values)"
   ]
  },
  {
   "cell_type": "code",
   "execution_count": 35,
   "metadata": {
    "ExecuteTime": {
     "end_time": "2019-07-22T18:27:38.535554Z",
     "start_time": "2019-07-22T18:27:38.529522Z"
    }
   },
   "outputs": [],
   "source": [
    "## Scale the Predictors on both the train and test set\n",
    "X_tr = std.transform(X_train.values)\n",
    "X_te = std.transform(X_test.values)"
   ]
  },
  {
   "cell_type": "code",
   "execution_count": 36,
   "metadata": {
    "ExecuteTime": {
     "end_time": "2019-07-22T18:27:42.031658Z",
     "start_time": "2019-07-22T18:27:39.306179Z"
    }
   },
   "outputs": [
    {
     "data": {
      "text/plain": [
       "RidgeCV(alphas=array([1.00000000e-02, 1.04737090e-02, 1.09698580e-02, 1.14895100e-02,\n",
       "       1.20337784e-02, 1.26038293e-02, 1.32008840e-02, 1.38262217e-02,\n",
       "       1.44811823e-02, 1.51671689e-02, 1.58856513e-02, 1.66381689e-02,\n",
       "       1.74263339e-02, 1.82518349e-02, 1.91164408e-02, 2.00220037e-02,\n",
       "       2.09704640e-02, 2.19638537e-02, 2.30043012e-02, 2.40940356e-02,\n",
       "       2.52353917e-02, 2.64308149e-0...\n",
       "       4.15040476e+01, 4.34701316e+01, 4.55293507e+01, 4.76861170e+01,\n",
       "       4.99450512e+01, 5.23109931e+01, 5.47890118e+01, 5.73844165e+01,\n",
       "       6.01027678e+01, 6.29498899e+01, 6.59318827e+01, 6.90551352e+01,\n",
       "       7.23263390e+01, 7.57525026e+01, 7.93409667e+01, 8.30994195e+01,\n",
       "       8.70359136e+01, 9.11588830e+01, 9.54771611e+01, 1.00000000e+02]),\n",
       "        cv=5, fit_intercept=True, gcv_mode=None, normalize=False, scoring=None,\n",
       "        store_cv_values=False)"
      ]
     },
     "execution_count": 36,
     "metadata": {},
     "output_type": "execute_result"
    }
   ],
   "source": [
    "# Run the cross validation, find the best alpha, refit the model on all the data with that alpha\n",
    "\n",
    "alphavec = 10**np.linspace(-2,2,200)\n",
    "\n",
    "ridge_model = RidgeCV(alphas = alphavec, cv=5)\n",
    "ridge_model.fit(X_tr, y_train)"
   ]
  },
  {
   "cell_type": "code",
   "execution_count": 38,
   "metadata": {
    "ExecuteTime": {
     "end_time": "2019-07-22T18:27:48.513135Z",
     "start_time": "2019-07-22T18:27:48.509650Z"
    }
   },
   "outputs": [],
   "source": [
    "# This is the best alpha value it found - not far from the value\n",
    "# selected using simple validation\n",
    "alpha_ridge = ridge_model.alpha_"
   ]
  },
  {
   "cell_type": "code",
   "execution_count": 39,
   "metadata": {
    "ExecuteTime": {
     "end_time": "2019-07-22T18:27:49.029875Z",
     "start_time": "2019-07-22T18:27:49.026243Z"
    }
   },
   "outputs": [],
   "source": [
    "# Make predictions on the test set using the new model\n",
    "test_set_pred = ridge_model.predict(X_te)"
   ]
  },
  {
   "cell_type": "code",
   "execution_count": 40,
   "metadata": {
    "ExecuteTime": {
     "end_time": "2019-07-22T18:27:49.630297Z",
     "start_time": "2019-07-22T18:27:49.622966Z"
    }
   },
   "outputs": [
    {
     "data": {
      "text/plain": [
       "1.2056184833615688"
      ]
     },
     "execution_count": 40,
     "metadata": {},
     "output_type": "execute_result"
    }
   ],
   "source": [
    "# Find the MAE and R^2 on the test set using this model\n",
    "#Mean Absolute Error (MAE)\n",
    "def mae(y_true, y_pred):\n",
    "    return np.mean(np.abs(y_pred - y_true))\n",
    "mae(y_test, test_set_pred)"
   ]
  },
  {
   "cell_type": "code",
   "execution_count": 41,
   "metadata": {
    "ExecuteTime": {
     "end_time": "2019-07-22T18:27:50.392455Z",
     "start_time": "2019-07-22T18:27:50.385630Z"
    },
    "scrolled": true
   },
   "outputs": [
    {
     "data": {
      "text/plain": [
       "0.5248747973277765"
      ]
     },
     "execution_count": 41,
     "metadata": {},
     "output_type": "execute_result"
    }
   ],
   "source": [
    "r2_score(y_test, test_set_pred)"
   ]
  },
  {
   "cell_type": "markdown",
   "metadata": {
    "ExecuteTime": {
     "end_time": "2019-07-22T18:20:32.561625Z",
     "start_time": "2019-07-22T18:20:32.558142Z"
    }
   },
   "source": [
    "## KFold cross validation with regularization to finalize the model and R2"
   ]
  },
  {
   "cell_type": "code",
   "execution_count": 42,
   "metadata": {
    "ExecuteTime": {
     "end_time": "2019-07-22T18:27:53.946796Z",
     "start_time": "2019-07-22T18:27:53.942749Z"
    }
   },
   "outputs": [],
   "source": [
    "lm = LinearRegression()\n",
    "lm_reg = Ridge(alpha=alpha_ridge)\n",
    "lm_las = Lasso(alpha=alpha_lasso)"
   ]
  },
  {
   "cell_type": "code",
   "execution_count": 43,
   "metadata": {
    "ExecuteTime": {
     "end_time": "2019-07-22T18:27:54.829051Z",
     "start_time": "2019-07-22T18:27:54.820437Z"
    }
   },
   "outputs": [],
   "source": [
    "std = StandardScaler()\n",
    "std.fit(X_train.values)\n",
    "X_tr = std.transform(X_train.values)\n",
    "X_te = std.transform(X_test.values)"
   ]
  },
  {
   "cell_type": "code",
   "execution_count": 44,
   "metadata": {
    "ExecuteTime": {
     "end_time": "2019-07-22T18:27:55.769374Z",
     "start_time": "2019-07-22T18:27:55.585940Z"
    }
   },
   "outputs": [
    {
     "name": "stdout",
     "output_type": "stream",
     "text": [
      "0.5284001299162185\n",
      "0.520732613810144\n",
      "0.5238514451478341\n"
     ]
    }
   ],
   "source": [
    "kf = KFold(n_splits=5, shuffle=True)\n",
    "\n",
    "print(np.mean(cross_val_score(lm, X_train, y_train, cv=kf, scoring='r2')))\n",
    "print(np.mean(cross_val_score(lm_las, X_tr, y_train, cv=kf, scoring='r2')))\n",
    "print(np.mean(cross_val_score(lm_reg, X_tr, y_train, cv=kf, scoring='r2')))"
   ]
  },
  {
   "cell_type": "markdown",
   "metadata": {},
   "source": [
    "Exercise: Using the KFold objects and the cross_val_score method above, loop through 5 different random states of your choice and collect mean CV scores for both lm and lm_reg. Compare the 5 pairs of scores.\n",
    "\n",
    "Are you convinced yet that regularization is helpful with this feature set?\n",
    "\n"
   ]
  },
  {
   "cell_type": "code",
   "execution_count": 45,
   "metadata": {
    "ExecuteTime": {
     "end_time": "2019-07-22T18:28:06.016721Z",
     "start_time": "2019-07-22T18:28:06.004660Z"
    }
   },
   "outputs": [],
   "source": [
    "from statistics import mean \n",
    "def randomKFold(kfold):\n",
    "    lm_score = []\n",
    "    las_score = []\n",
    "    reg_score = []\n",
    "    for k in kfold:\n",
    "        kf = KFold(n_splits=5, shuffle=True, random_state=k)\n",
    "        lm_score.append(np.mean(cross_val_score(lm, X_train, y_train, cv=kf, scoring='r2')))\n",
    "        las_score.append(np.mean(cross_val_score(lm_las, X_tr, y_train, cv=kf, scoring='r2')))\n",
    "        reg_score.append(np.mean(cross_val_score(lm_reg, X_tr, y_train, cv=kf, scoring='r2')))\n",
    "    print (\"Linear Score\", mean(lm_score))\n",
    "    print (\"Lasso Score\", mean(las_score))\n",
    "    print (\"Ridge Score\", mean(reg_score))"
   ]
  },
  {
   "cell_type": "code",
   "execution_count": 46,
   "metadata": {
    "ExecuteTime": {
     "end_time": "2019-07-22T18:28:09.934032Z",
     "start_time": "2019-07-22T18:28:07.319474Z"
    }
   },
   "outputs": [
    {
     "name": "stdout",
     "output_type": "stream",
     "text": [
      "Linear Score 0.5246680194346983\n",
      "Lasso Score 0.5205112614411493\n",
      "Ridge Score 0.5269399756894492\n"
     ]
    }
   ],
   "source": [
    "# let's do this 20 times\n",
    "randomKFold(range(10,30))"
   ]
  },
  {
   "cell_type": "markdown",
   "metadata": {
    "ExecuteTime": {
     "end_time": "2019-07-22T18:21:50.336888Z",
     "start_time": "2019-07-22T18:21:50.331480Z"
    }
   },
   "source": [
    "**Best Fit Ridge**"
   ]
  },
  {
   "cell_type": "code",
   "execution_count": 47,
   "metadata": {
    "ExecuteTime": {
     "end_time": "2019-07-22T18:28:31.107855Z",
     "start_time": "2019-07-22T18:28:31.090426Z"
    }
   },
   "outputs": [
    {
     "data": {
      "text/html": [
       "<div>\n",
       "<style scoped>\n",
       "    .dataframe tbody tr th:only-of-type {\n",
       "        vertical-align: middle;\n",
       "    }\n",
       "\n",
       "    .dataframe tbody tr th {\n",
       "        vertical-align: top;\n",
       "    }\n",
       "\n",
       "    .dataframe thead th {\n",
       "        text-align: right;\n",
       "    }\n",
       "</style>\n",
       "<table border=\"1\" class=\"dataframe\">\n",
       "  <thead>\n",
       "    <tr style=\"text-align: right;\">\n",
       "      <th></th>\n",
       "      <th>Coef</th>\n",
       "    </tr>\n",
       "  </thead>\n",
       "  <tbody>\n",
       "    <tr>\n",
       "      <th>Free_Pay</th>\n",
       "      <td>-0.899329</td>\n",
       "    </tr>\n",
       "    <tr>\n",
       "      <th>contains_ads</th>\n",
       "      <td>-0.421503</td>\n",
       "    </tr>\n",
       "    <tr>\n",
       "      <th>has_iap</th>\n",
       "      <td>0.302078</td>\n",
       "    </tr>\n",
       "    <tr>\n",
       "      <th>android</th>\n",
       "      <td>-0.138313</td>\n",
       "    </tr>\n",
       "    <tr>\n",
       "      <th>log_downloads</th>\n",
       "      <td>-0.383902</td>\n",
       "    </tr>\n",
       "    <tr>\n",
       "      <th>overall_rating</th>\n",
       "      <td>-0.053786</td>\n",
       "    </tr>\n",
       "    <tr>\n",
       "      <th>log_rating_count</th>\n",
       "      <td>0.869309</td>\n",
       "    </tr>\n",
       "    <tr>\n",
       "      <th>one_star</th>\n",
       "      <td>0.764338</td>\n",
       "    </tr>\n",
       "    <tr>\n",
       "      <th>two_star</th>\n",
       "      <td>0.059152</td>\n",
       "    </tr>\n",
       "    <tr>\n",
       "      <th>three_star</th>\n",
       "      <td>-2.488385</td>\n",
       "    </tr>\n",
       "    <tr>\n",
       "      <th>four_star</th>\n",
       "      <td>2.145829</td>\n",
       "    </tr>\n",
       "    <tr>\n",
       "      <th>five_star</th>\n",
       "      <td>-0.184950</td>\n",
       "    </tr>\n",
       "    <tr>\n",
       "      <th>categories_Action</th>\n",
       "      <td>0.352212</td>\n",
       "    </tr>\n",
       "    <tr>\n",
       "      <th>categories_Adventure</th>\n",
       "      <td>0.390818</td>\n",
       "    </tr>\n",
       "    <tr>\n",
       "      <th>categories_Arcade</th>\n",
       "      <td>0.108412</td>\n",
       "    </tr>\n",
       "    <tr>\n",
       "      <th>categories_Board</th>\n",
       "      <td>0.128593</td>\n",
       "    </tr>\n",
       "    <tr>\n",
       "      <th>categories_Card</th>\n",
       "      <td>0.313930</td>\n",
       "    </tr>\n",
       "    <tr>\n",
       "      <th>categories_Casino</th>\n",
       "      <td>0.509466</td>\n",
       "    </tr>\n",
       "    <tr>\n",
       "      <th>categories_Casual</th>\n",
       "      <td>0.211569</td>\n",
       "    </tr>\n",
       "    <tr>\n",
       "      <th>categories_Other</th>\n",
       "      <td>0.215169</td>\n",
       "    </tr>\n",
       "    <tr>\n",
       "      <th>categories_Puzzle</th>\n",
       "      <td>0.348493</td>\n",
       "    </tr>\n",
       "    <tr>\n",
       "      <th>categories_Role Playing</th>\n",
       "      <td>0.676065</td>\n",
       "    </tr>\n",
       "    <tr>\n",
       "      <th>categories_Simulation</th>\n",
       "      <td>0.473480</td>\n",
       "    </tr>\n",
       "    <tr>\n",
       "      <th>categories_Sports</th>\n",
       "      <td>0.268213</td>\n",
       "    </tr>\n",
       "    <tr>\n",
       "      <th>categories_Strategy</th>\n",
       "      <td>0.628219</td>\n",
       "    </tr>\n",
       "  </tbody>\n",
       "</table>\n",
       "</div>"
      ],
      "text/plain": [
       "                             Coef\n",
       "Free_Pay                -0.899329\n",
       "contains_ads            -0.421503\n",
       "has_iap                  0.302078\n",
       "android                 -0.138313\n",
       "log_downloads           -0.383902\n",
       "overall_rating          -0.053786\n",
       "log_rating_count         0.869309\n",
       "one_star                 0.764338\n",
       "two_star                 0.059152\n",
       "three_star              -2.488385\n",
       "four_star                2.145829\n",
       "five_star               -0.184950\n",
       "categories_Action        0.352212\n",
       "categories_Adventure     0.390818\n",
       "categories_Arcade        0.108412\n",
       "categories_Board         0.128593\n",
       "categories_Card          0.313930\n",
       "categories_Casino        0.509466\n",
       "categories_Casual        0.211569\n",
       "categories_Other         0.215169\n",
       "categories_Puzzle        0.348493\n",
       "categories_Role Playing  0.676065\n",
       "categories_Simulation    0.473480\n",
       "categories_Sports        0.268213\n",
       "categories_Strategy      0.628219"
      ]
     },
     "execution_count": 47,
     "metadata": {},
     "output_type": "execute_result"
    }
   ],
   "source": [
    "# output coeff for each features\n",
    "pd.DataFrame(data={'Coef':ridge_model.coef_}, index=X_train.columns)"
   ]
  },
  {
   "cell_type": "code",
   "execution_count": 48,
   "metadata": {
    "ExecuteTime": {
     "end_time": "2019-07-22T18:28:36.226398Z",
     "start_time": "2019-07-22T18:28:36.221958Z"
    }
   },
   "outputs": [],
   "source": [
    "test_set_pred = ridge_model.predict(X_te)"
   ]
  },
  {
   "cell_type": "code",
   "execution_count": 49,
   "metadata": {
    "ExecuteTime": {
     "end_time": "2019-07-22T18:28:36.913601Z",
     "start_time": "2019-07-22T18:28:36.906930Z"
    }
   },
   "outputs": [
    {
     "data": {
      "text/plain": [
       "1.2056184833615688"
      ]
     },
     "execution_count": 49,
     "metadata": {},
     "output_type": "execute_result"
    }
   ],
   "source": [
    "#Mean Absolute Error (MAE)\n",
    "mae(y_test, test_set_pred)"
   ]
  },
  {
   "cell_type": "code",
   "execution_count": 54,
   "metadata": {
    "ExecuteTime": {
     "end_time": "2019-07-22T18:29:06.035592Z",
     "start_time": "2019-07-22T18:29:05.472881Z"
    }
   },
   "outputs": [
    {
     "data": {
      "text/plain": [
       "<matplotlib.axes._subplots.AxesSubplot at 0x11149bcc0>"
      ]
     },
     "execution_count": 54,
     "metadata": {},
     "output_type": "execute_result"
    },
    {
     "data": {
      "image/png": "[encoded data removed]",
      "text/plain": [
       "<Figure size 432x288 with 1 Axes>"
      ]
     },
     "metadata": {},
     "output_type": "display_data"
    }
   ],
   "source": [
    "sns.scatterplot(test_set_pred, y_test, alpha=.1)\n",
    "sns.lineplot(np.linspace(0,600000,1000), np.linspace(0,600000,1000))"
   ]
  },
  {
   "cell_type": "code",
   "execution_count": 51,
   "metadata": {
    "ExecuteTime": {
     "end_time": "2019-07-22T18:28:38.471009Z",
     "start_time": "2019-07-22T18:28:38.459056Z"
    }
   },
   "outputs": [
    {
     "data": {
      "text/plain": [
       "0.5248747973277765"
      ]
     },
     "execution_count": 51,
     "metadata": {},
     "output_type": "execute_result"
    }
   ],
   "source": [
    "#r-squared\n",
    "r2_score(y_test, test_set_pred)"
   ]
  }
 ],
 "metadata": {
  "kernelspec": {
   "display_name": "Python 3",
   "language": "python",
   "name": "python3"
  },
  "language_info": {
   "codemirror_mode": {
    "name": "ipython",
    "version": 3
   },
   "file_extension": ".py",
   "mimetype": "text/x-python",
   "name": "python",
   "nbconvert_exporter": "python",
   "pygments_lexer": "ipython3",
   "version": "3.7.3"
  }
 },
 "nbformat": 4,
 "nbformat_minor": 1
}
