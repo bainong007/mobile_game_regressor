{
 "cells": [
  {
   "cell_type": "markdown",
   "metadata": {},
   "source": [
    "# Cleaning Mobile Game Data"
   ]
  },
  {
   "cell_type": "markdown",
   "metadata": {
    "heading_collapsed": true
   },
   "source": [
    "## 1) Cleaning for google play moblie games"
   ]
  },
  {
   "cell_type": "code",
   "execution_count": null,
   "metadata": {
    "hidden": true
   },
   "outputs": [],
   "source": [
    "import pandas as pd\n",
    "import numpy as np\n",
    "import re"
   ]
  },
  {
   "cell_type": "code",
   "execution_count": null,
   "metadata": {
    "hidden": true
   },
   "outputs": [],
   "source": [
    "# read csv\n",
    "def readcsv(x):\n",
    "    game_df_raw = pd.read_csv(x)\n",
    "    return game_df_raw"
   ]
  },
  {
   "cell_type": "code",
   "execution_count": null,
   "metadata": {
    "hidden": true
   },
   "outputs": [],
   "source": [
    "game_df_raw = readcsv('gameinfo_raw')"
   ]
  },
  {
   "cell_type": "code",
   "execution_count": null,
   "metadata": {
    "hidden": true
   },
   "outputs": [],
   "source": [
    "# Check columns\n",
    "game_df_raw.columns"
   ]
  },
  {
   "cell_type": "code",
   "execution_count": null,
   "metadata": {
    "hidden": true
   },
   "outputs": [],
   "source": [
    "# functions to keep to columns that I want\n",
    "def dropcln(game_df_raw):\n",
    "    game_df_raw.drop(game_df_raw.columns.difference(['categories', 'contains_ads', 'downloads_and_revenue', 'has_iap',\n",
    "       'installs', 'most_popular_country', 'name', 'os', 'price',\n",
    "       'publisher_country', 'publisher_name', 'rating', 'rating_breakdown',\n",
    "       'rating_count']), axis=1, inplace=True)\n",
    "    return game_df_raw"
   ]
  },
  {
   "cell_type": "code",
   "execution_count": null,
   "metadata": {
    "hidden": true
   },
   "outputs": [],
   "source": [
    "# excute drop columns function\n",
    "dropcln(game_df_raw)"
   ]
  },
  {
   "cell_type": "code",
   "execution_count": null,
   "metadata": {
    "hidden": true
   },
   "outputs": [],
   "source": [
    "game_df_raw.head()"
   ]
  },
  {
   "cell_type": "code",
   "execution_count": null,
   "metadata": {
    "hidden": true
   },
   "outputs": [],
   "source": [
    "# clean the categories and has_iap columns\n",
    "def remake_columns(game_df_raw):\n",
    "    game_df_raw['categories'] = game_df_raw['categories'].apply(lambda x: pd.Series(re.split('[,:]',x)))[5]\n",
    "    game_df_raw['categories'].replace(\"['']\",'', regex=True, inplace=True)\n",
    "    game_df_raw['has_iap'].replace(\"r['']\",'', regex=True, inplace=True)\n",
    "    game_df_raw['has_iap'].replace({\"'1.0'\":1,\"True\": 1, None:0, float(1.0) :1}, inplace=True)\n",
    "    return game_df_raw"
   ]
  },
  {
   "cell_type": "code",
   "execution_count": null,
   "metadata": {
    "hidden": true
   },
   "outputs": [],
   "source": [
    "# execute function\n",
    "remake_columns(game_df_raw)"
   ]
  },
  {
   "cell_type": "code",
   "execution_count": null,
   "metadata": {
    "hidden": true
   },
   "outputs": [],
   "source": [
    "# set up the \"revenue\" Column\n",
    "def convertamount():\n",
    "    game_df_raw['revenue'] = game_df_raw['downloads_and_revenue'].apply(lambda x: pd.Series(re.split('[{},:]',x)))[4]\n",
    "    game_df_raw['revenue'].str.strip()\n",
    "    game_df_raw['revenue'].replace('k', '000', regex=True, inplace=True)\n",
    "    game_df_raw['revenue'].replace('m', '000000', regex=True, inplace=True)\n",
    "    game_df_raw['revenue'].replace(\"[<$'']\", '', regex=True, inplace=True)\n",
    "    game_df_raw['revenue'] = pd.to_numeric(game_df_raw['revenue'])\n",
    "    return game_df_raw['revenue']"
   ]
  },
  {
   "cell_type": "code",
   "execution_count": null,
   "metadata": {
    "hidden": true
   },
   "outputs": [],
   "source": [
    "# execute function\n",
    "convertamount()"
   ]
  },
  {
   "cell_type": "code",
   "execution_count": null,
   "metadata": {
    "hidden": true
   },
   "outputs": [],
   "source": [
    "# set up the \"installs\" Column\n",
    "def convertamount3():\n",
    "    game_df_raw['installs'].str.strip()\n",
    "    game_df_raw['installs'].replace('[+,]', '', regex=True, inplace=True)\n",
    "    game_df_raw['installs'] = pd.to_numeric(game_df_raw['installs'])\n",
    "    return game_df_raw['installs']"
   ]
  },
  {
   "cell_type": "code",
   "execution_count": null,
   "metadata": {
    "hidden": true
   },
   "outputs": [],
   "source": [
    "# execute function\n",
    "convertamount3()"
   ]
  },
  {
   "cell_type": "code",
   "execution_count": null,
   "metadata": {
    "hidden": true
   },
   "outputs": [],
   "source": [
    "# set up the \"downloadss\" Column\n",
    "def convertamount2():\n",
    "    game_df_raw['downloads'] = game_df_raw['downloads_and_revenue'].apply(lambda x: pd.Series(re.split('[{},:]',x)))[2]\n",
    "    game_df_raw['downloads'].replace(r\"[<'']\", '', regex=True, inplace=True)\n",
    "    game_df_raw['downloads'].str.strip()\n",
    "    game_df_raw['downloads'].replace('k', '000', regex=True, inplace=True)\n",
    "    game_df_raw['downloads'].replace('m', '000000', regex=True, inplace=True)\n",
    "    game_df_raw['downloads'] = pd.to_numeric(game_df_raw['downloads'])\n",
    "    return game_df_raw['downloads']"
   ]
  },
  {
   "cell_type": "code",
   "execution_count": null,
   "metadata": {
    "hidden": true
   },
   "outputs": [],
   "source": [
    "# execute function\n",
    "convertamount2()"
   ]
  },
  {
   "cell_type": "code",
   "execution_count": 15,
   "metadata": {
    "hidden": true
   },
   "outputs": [],
   "source": [
    "# eval the column; delect the ''. and turn it into a list\n",
    "game_df_raw['rating_breakdown'] = game_df_comb['rating_breakdown'].apply(lambda x: eval(x))"
   ]
  },
  {
   "cell_type": "code",
   "execution_count": 16,
   "metadata": {
    "hidden": true
   },
   "outputs": [],
   "source": [
    "# Breaking 'rating_breakdown' feature into 5.\n",
    "def make5star():\n",
    "    game_df_comb['one_star'] = game_df_comb['rating_breakdown'].apply(lambda x: x[0])\n",
    "    game_df_comb['two_star'] = game_df_comb['rating_breakdown'].apply(lambda x: x[1])\n",
    "    game_df_comb['three_star'] = game_df_comb['rating_breakdown'].apply(lambda x: x[2])\n",
    "    game_df_comb['four_star'] = game_df_comb['rating_breakdown'].apply(lambda x: x[3])\n",
    "    game_df_comb['five_star'] = game_df_comb['rating_breakdown'].apply(lambda x: x[4])"
   ]
  },
  {
   "cell_type": "code",
   "execution_count": 17,
   "metadata": {
    "hidden": true
   },
   "outputs": [],
   "source": [
    "# execute function\n",
    "make5star()"
   ]
  },
  {
   "cell_type": "code",
   "execution_count": 19,
   "metadata": {
    "hidden": true
   },
   "outputs": [
    {
     "data": {
      "text/plain": [
       "categories                0\n",
       "contains_ads              0\n",
       "downloads_and_revenue     0\n",
       "has_iap                   0\n",
       "installs                  0\n",
       "most_popular_country      0\n",
       "name                      0\n",
       "os                        0\n",
       "price                     0\n",
       "publisher_country        81\n",
       "publisher_name            0\n",
       "rating                    0\n",
       "rating_breakdown          0\n",
       "rating_count              0\n",
       "revenue                   0\n",
       "downloads                 0\n",
       "one_star                  0\n",
       "two_star                  0\n",
       "three_star                0\n",
       "four_star                 0\n",
       "five_star                 0\n",
       "dtype: int64"
      ]
     },
     "execution_count": 19,
     "metadata": {},
     "output_type": "execute_result"
    }
   ],
   "source": [
    "game_df_raw.isna().sum()"
   ]
  },
  {
   "cell_type": "code",
   "execution_count": null,
   "metadata": {
    "hidden": true
   },
   "outputs": [],
   "source": [
    "# rename column os ---> android\n",
    "game_df_raw.rename(columns={'os':'android'}, inplace=True)"
   ]
  },
  {
   "cell_type": "code",
   "execution_count": null,
   "metadata": {
    "hidden": true
   },
   "outputs": [],
   "source": [
    "# replace ios string with 1 for ios columns\n",
    "game_df_raw['android'] = game_df_raw['android'].replace('android', 1)"
   ]
  },
  {
   "cell_type": "code",
   "execution_count": null,
   "metadata": {
    "hidden": true
   },
   "outputs": [],
   "source": [
    "game_df_raw.to_csv('gameinfo_google')"
   ]
  },
  {
   "cell_type": "markdown",
   "metadata": {
    "heading_collapsed": true
   },
   "source": [
    "## 2) Cleaning ios Game Data"
   ]
  },
  {
   "cell_type": "code",
   "execution_count": null,
   "metadata": {
    "hidden": true
   },
   "outputs": [],
   "source": [
    "import pandas as pd\n",
    "import numpy as np\n",
    "import re"
   ]
  },
  {
   "cell_type": "code",
   "execution_count": null,
   "metadata": {
    "hidden": true
   },
   "outputs": [],
   "source": [
    "game_df_raw = pd.read_csv(\"gameinfo_raw_os\")"
   ]
  },
  {
   "cell_type": "code",
   "execution_count": null,
   "metadata": {
    "hidden": true
   },
   "outputs": [],
   "source": [
    "# functions to keep to columns that I want\n",
    "def dropcln(game_df_raw):\n",
    "    game_df_raw.drop(game_df_raw.columns.difference(['categories', 'contains_ads', 'has_iap', 'price', 'rating', 'rating_count', 'rating_breakdown',\n",
    "       'os', 'publisher_name', 'publisher_country', 'installs', 'most_popular_country','downloads_and_revenue','name']), axis=1, inplace=True)\n",
    "    return game_df_raw"
   ]
  },
  {
   "cell_type": "code",
   "execution_count": null,
   "metadata": {
    "hidden": true
   },
   "outputs": [],
   "source": [
    "dropcln(game_df_raw)"
   ]
  },
  {
   "cell_type": "code",
   "execution_count": null,
   "metadata": {
    "hidden": true
   },
   "outputs": [],
   "source": [
    "# Drop na on 'categories' column\n",
    "game_df_raw['categories'].dropna(how=\"any\", inplace=True)"
   ]
  },
  {
   "cell_type": "code",
   "execution_count": null,
   "metadata": {
    "hidden": true
   },
   "outputs": [],
   "source": [
    "# apply eval on 'categories' column\n",
    "game_df_raw['categories'] = game_df_raw['categories'].apply(lambda x: eval(x))"
   ]
  },
  {
   "cell_type": "code",
   "execution_count": null,
   "metadata": {
    "hidden": true
   },
   "outputs": [],
   "source": [
    "# function to split and return the game catergories for each row.\n",
    "def cat(x):\n",
    "    v = []\n",
    "    for g in x:\n",
    "        if len(g['name'].split(r'/')) > 1:\n",
    "            v.append(g['name'].split(r'/')[1])\n",
    "    return v"
   ]
  },
  {
   "cell_type": "code",
   "execution_count": null,
   "metadata": {
    "hidden": true
   },
   "outputs": [],
   "source": [
    "# apply cat() function on 'categories' column\n",
    "game_df_raw['categories'] = game_df_raw['categories'].apply(cat)"
   ]
  },
  {
   "cell_type": "code",
   "execution_count": null,
   "metadata": {
    "hidden": true
   },
   "outputs": [],
   "source": [
    "# function to clean \"is_iap\" columns,set everything to 0 and 1\n",
    "def iap_remake(game_df_raw):\n",
    "    game_df_raw['has_iap'].replace(\"r['']\",'', regex=True, inplace=True)\n",
    "    game_df_raw['has_iap'].replace({\"'1.0'\":1,\"True\": 1, None:0, float(1.0) :1}, inplace=True)\n",
    "    return game_df_raw"
   ]
  },
  {
   "cell_type": "code",
   "execution_count": null,
   "metadata": {
    "hidden": true
   },
   "outputs": [],
   "source": [
    "iap_remake(game_df_raw)"
   ]
  },
  {
   "cell_type": "code",
   "execution_count": null,
   "metadata": {
    "hidden": true
   },
   "outputs": [],
   "source": [
    "# function to clean \"contains_ads\" columns,set everything to 0 and 1\n",
    "def ads_remake(game_df_raw):\n",
    "    game_df_raw['contains_ads'].replace(\"r['']\",'', regex=True, inplace=True)\n",
    "    game_df_raw['contains_ads'].replace({\"'1.0'\":1,\"True\": 1, None:0, float(1.0) :1}, inplace=True)\n",
    "    return game_df_raw"
   ]
  },
  {
   "cell_type": "code",
   "execution_count": null,
   "metadata": {
    "hidden": true
   },
   "outputs": [],
   "source": [
    "ads_remake(game_df_raw)"
   ]
  },
  {
   "cell_type": "code",
   "execution_count": null,
   "metadata": {
    "hidden": true
   },
   "outputs": [],
   "source": [
    "# mask to search the row with incorrect data\n",
    "mask1 = game_df_raw['rating_breakdown'].apply(lambda x: type(x) != str)"
   ]
  },
  {
   "cell_type": "code",
   "execution_count": null,
   "metadata": {
    "hidden": true
   },
   "outputs": [],
   "source": [
    "game_df_raw[mask1]"
   ]
  },
  {
   "cell_type": "code",
   "execution_count": null,
   "metadata": {
    "hidden": true
   },
   "outputs": [],
   "source": [
    "# Drop those rows with incorrect data\n",
    "game_df_raw.drop([464,1128,1215], inplace=True)"
   ]
  },
  {
   "cell_type": "code",
   "execution_count": null,
   "metadata": {
    "hidden": true
   },
   "outputs": [],
   "source": [
    "# apply eval on 'downloads_and_revenue' column\n",
    "game_df_raw['downloads_and_revenue'] = game_df_raw['downloads_and_revenue'].apply(lambda x: eval(x))"
   ]
  },
  {
   "cell_type": "code",
   "execution_count": 23,
   "metadata": {
    "hidden": true
   },
   "outputs": [],
   "source": [
    "# rename column os ---> ios\n",
    "game_df_raw.rename(columns={'os':'ios'}, inplace=True)"
   ]
  },
  {
   "cell_type": "code",
   "execution_count": 24,
   "metadata": {
    "hidden": true
   },
   "outputs": [],
   "source": [
    "# replace ios string with 1 for ios columns\n",
    "game_df_raw['ios'] = game_df_raw['ios'].replace('ios', 1)"
   ]
  },
  {
   "cell_type": "code",
   "execution_count": null,
   "metadata": {
    "hidden": true
   },
   "outputs": [],
   "source": [
    "def catos(x):\n",
    "    if len(x) >=1:\n",
    "        return x[0]\n",
    "    else:\n",
    "        return None"
   ]
  },
  {
   "cell_type": "code",
   "execution_count": null,
   "metadata": {
    "hidden": true
   },
   "outputs": [],
   "source": [
    "# Further cleaning the 'categories'\n",
    "game_df_raw['categories'] = game_df_raw4['categories'].apply(catos)"
   ]
  },
  {
   "cell_type": "code",
   "execution_count": null,
   "metadata": {
    "hidden": true
   },
   "outputs": [],
   "source": [
    "# Set up revenue column\n",
    "def convertamount():\n",
    "    game_df_raw['revenue'] = game_df_raw['downloads_and_revenue'].apply(lambda x: x['revenue'])\n",
    "    game_df_raw['revenue'].str.strip()\n",
    "    game_df_raw['revenue'].replace('k', '000', regex=True, inplace=True)\n",
    "    game_df_raw['revenue'].replace('m', '000000', regex=True, inplace=True)\n",
    "    game_df_raw['revenue'].replace(r\"[<$]\", '', regex=True, inplace=True)\n",
    "    game_df_raw['revenue'] = pd.to_numeric(game_df_raw['revenue'])\n",
    "    return game_df_raw['revenue']"
   ]
  },
  {
   "cell_type": "code",
   "execution_count": null,
   "metadata": {
    "hidden": true
   },
   "outputs": [],
   "source": [
    "convertamount()"
   ]
  },
  {
   "cell_type": "code",
   "execution_count": null,
   "metadata": {
    "hidden": true
   },
   "outputs": [],
   "source": [
    "# Set up downloads column\n",
    "def convertamount2():\n",
    "    game_df_raw['downloads'] = game_df_raw['downloads_and_revenue'].apply(lambda x: x['downloads'])\n",
    "    game_df_raw['downloads'].replace(r\"[<'']\", '', regex=True, inplace=True)\n",
    "    game_df_raw['downloads'].str.strip()\n",
    "    game_df_raw['downloads'].replace('k', '000', regex=True, inplace=True)\n",
    "    game_df_raw['downloads'].replace('m', '000000', regex=True, inplace=True)\n",
    "    game_df_raw['downloads'] = pd.to_numeric(game_df_raw['downloads'])\n",
    "    return game_df_raw['downloads']"
   ]
  },
  {
   "cell_type": "code",
   "execution_count": null,
   "metadata": {
    "hidden": true
   },
   "outputs": [],
   "source": [
    "convertamount2()"
   ]
  },
  {
   "cell_type": "code",
   "execution_count": null,
   "metadata": {
    "hidden": true
   },
   "outputs": [],
   "source": [
    "game_df_raw['rating_breakdown'] = game_df_raw['rating_breakdown'].apply(lambda x: eval(x))"
   ]
  },
  {
   "cell_type": "code",
   "execution_count": null,
   "metadata": {
    "hidden": true
   },
   "outputs": [],
   "source": [
    "# break 'rating_breakdown' into 5 columns\n",
    "def make5star():\n",
    "    game_df_raw['one_star'] = game_df_raw['rating_breakdown'].apply(lambda x: x[0])\n",
    "    game_df_raw['two_star'] = game_df_raw['rating_breakdown'].apply(lambda x: x[1])\n",
    "    game_df_raw['three_star'] = game_df_raw['rating_breakdown'].apply(lambda x: x[2])\n",
    "    game_df_raw['four_star'] = game_df_raw['rating_breakdown'].apply(lambda x: x[3])\n",
    "    game_df_raw['five_star'] = game_df_raw['rating_breakdown'].apply(lambda x: x[4])"
   ]
  },
  {
   "cell_type": "code",
   "execution_count": null,
   "metadata": {
    "hidden": true
   },
   "outputs": [],
   "source": [
    "make5star()"
   ]
  },
  {
   "cell_type": "code",
   "execution_count": null,
   "metadata": {
    "hidden": true
   },
   "outputs": [],
   "source": [
    "game_df_raw.to_csv('gaminfo_os')"
   ]
  },
  {
   "cell_type": "markdown",
   "metadata": {
    "heading_collapsed": true
   },
   "source": [
    "## Combine csv/dataframe ios and google"
   ]
  },
  {
   "cell_type": "code",
   "execution_count": null,
   "metadata": {
    "hidden": true
   },
   "outputs": [],
   "source": [
    "# read 2 dataframe google and ios\n",
    "game_df_and.to_csv('gaminfo_google.csv')\n",
    "game_df_ios.to_csv('gaminfo_ios.csv')"
   ]
  },
  {
   "cell_type": "code",
   "execution_count": null,
   "metadata": {
    "hidden": true
   },
   "outputs": [],
   "source": [
    "# combine dataframe\n",
    "game_df_comb = pd.concat([game_df_and, game_df_ios], axis=0)"
   ]
  },
  {
   "cell_type": "code",
   "execution_count": 47,
   "metadata": {
    "hidden": true
   },
   "outputs": [],
   "source": [
    "game_df_comb['ios'].fillna(value=0, inplace=True)"
   ]
  },
  {
   "cell_type": "code",
   "execution_count": 47,
   "metadata": {
    "hidden": true
   },
   "outputs": [],
   "source": [
    "game_df_comb['android'].fillna(value=0, inplace=True)"
   ]
  }
 ],
 "metadata": {
  "kernelspec": {
   "display_name": "Python 3",
   "language": "python",
   "name": "python3"
  },
  "language_info": {
   "codemirror_mode": {
    "name": "ipython",
    "version": 3
   },
   "file_extension": ".py",
   "mimetype": "text/x-python",
   "name": "python",
   "nbconvert_exporter": "python",
   "pygments_lexer": "ipython3",
   "version": "3.7.3"
  }
 },
 "nbformat": 4,
 "nbformat_minor": 2
}
